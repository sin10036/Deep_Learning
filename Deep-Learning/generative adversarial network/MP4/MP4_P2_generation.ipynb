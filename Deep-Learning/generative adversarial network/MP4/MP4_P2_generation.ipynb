{
 "cells": [
  {
   "cell_type": "markdown",
   "metadata": {
    "colab_type": "text",
    "id": "d5Xp0rt-D04R"
   },
   "source": [
    "# Generating Text with an RNN"
   ]
  },
  {
   "cell_type": "code",
   "execution_count": 1,
   "metadata": {
    "colab": {
     "base_uri": "https://localhost:8080/",
     "height": 122
    },
    "colab_type": "code",
    "id": "zML59-MTD9Zx",
    "outputId": "b0ec2d5c-8536-4476-edca-c1c16f764169"
   },
   "outputs": [
    {
     "name": "stdout",
     "output_type": "stream",
     "text": [
      "Go to this URL in a browser: https://accounts.google.com/o/oauth2/auth?client_id=947318989803-6bn6qk8qdgf4n4g3pfee6491hc0brc4i.apps.googleusercontent.com&redirect_uri=urn%3Aietf%3Awg%3Aoauth%3A2.0%3Aoob&scope=email%20https%3A%2F%2Fwww.googleapis.com%2Fauth%2Fdocs.test%20https%3A%2F%2Fwww.googleapis.com%2Fauth%2Fdrive%20https%3A%2F%2Fwww.googleapis.com%2Fauth%2Fdrive.photos.readonly%20https%3A%2F%2Fwww.googleapis.com%2Fauth%2Fpeopleapi.readonly&response_type=code\n",
      "\n",
      "Enter your authorization code:\n",
      "··········\n",
      "Mounted at /content/gdrive\n"
     ]
    }
   ],
   "source": [
    "from google.colab import drive\n",
    "drive.mount('/content/gdrive')\n",
    "import os\n",
    "os.chdir(\"gdrive/My Drive/mp4\")"
   ]
  },
  {
   "cell_type": "code",
   "execution_count": 4,
   "metadata": {
    "colab": {
     "base_uri": "https://localhost:8080/",
     "height": 224
    },
    "colab_type": "code",
    "id": "LcPlad6uEAL3",
    "outputId": "26748e52-b7dc-4302-cf3d-320befed27e5"
   },
   "outputs": [
    {
     "name": "stdout",
     "output_type": "stream",
     "text": [
      "Collecting torch\n",
      "\u001b[?25l  Downloading https://files.pythonhosted.org/packages/49/0e/e382bcf1a6ae8225f50b99cc26effa2d4cc6d66975ccf3fa9590efcbedce/torch-0.4.1-cp36-cp36m-manylinux1_x86_64.whl (519.5MB)\n",
      "\u001b[K    100% |████████████████████████████████| 519.5MB 30kB/s \n",
      "tcmalloc: large alloc 1073750016 bytes == 0x59db2000 @  0x7f056de272a4 0x591a07 0x5b5d56 0x502e9a 0x506859 0x502209 0x502f3d 0x506859 0x504c28 0x502540 0x502f3d 0x506859 0x504c28 0x502540 0x502f3d 0x506859 0x504c28 0x502540 0x502f3d 0x507641 0x502209 0x502f3d 0x506859 0x504c28 0x502540 0x502f3d 0x507641 0x504c28 0x502540 0x502f3d 0x507641\n",
      "\u001b[?25hInstalling collected packages: torch\n",
      "Successfully installed torch-0.4.1\n",
      "Collecting unidecode\n",
      "\u001b[?25l  Downloading https://files.pythonhosted.org/packages/31/39/53096f9217b057cb049fe872b7fc7ce799a1a89b76cf917d9639e7a558b5/Unidecode-1.0.23-py2.py3-none-any.whl (237kB)\n",
      "\u001b[K    100% |████████████████████████████████| 245kB 7.3MB/s \n",
      "\u001b[?25hInstalling collected packages: unidecode\n",
      "Successfully installed unidecode-1.0.23\n"
     ]
    }
   ],
   "source": [
    "#!pip install torch\n",
    "#!pip install unidecode"
   ]
  },
  {
   "cell_type": "code",
   "execution_count": 35,
   "metadata": {
    "colab": {
     "base_uri": "https://localhost:8080/",
     "height": 51
    },
    "colab_type": "code",
    "id": "4M6u7U3XD04S",
    "outputId": "afc72de7-17f3-468f-fe85-656930b88e71"
   },
   "outputs": [
    {
     "name": "stdout",
     "output_type": "stream",
     "text": [
      "The autoreload extension is already loaded. To reload it, use:\n",
      "  %reload_ext autoreload\n"
     ]
    }
   ],
   "source": [
    "import unidecode\n",
    "import string\n",
    "import random\n",
    "import re\n",
    "import time\n",
    "\n",
    "import torch\n",
    "import torch.nn as nn\n",
    "\n",
    "%matplotlib inline\n",
    "\n",
    "%load_ext autoreload\n",
    "%autoreload 2"
   ]
  },
  {
   "cell_type": "code",
   "execution_count": 0,
   "metadata": {
    "colab": {},
    "colab_type": "code",
    "id": "MYLvLz-fD04W"
   },
   "outputs": [],
   "source": [
    "from rnn.model import RNN\n",
    "from rnn.helpers import time_since\n",
    "from rnn.generate import generate"
   ]
  },
  {
   "cell_type": "code",
   "execution_count": 0,
   "metadata": {
    "colab": {},
    "colab_type": "code",
    "id": "9XhO2NkaD04Z",
    "scrolled": true
   },
   "outputs": [],
   "source": [
    "device = torch.device(\"cuda:0\" if torch.cuda.is_available() else \"cpu\") "
   ]
  },
  {
   "cell_type": "markdown",
   "metadata": {
    "colab_type": "text",
    "id": "kkMU3hLgD04c"
   },
   "source": [
    "## Data Processing\n",
    "\n",
    "The file we are using is a plain text file. We turn any potential unicode characters into plain ASCII by using the `unidecode` package (which you can install via `pip` or `conda`)."
   ]
  },
  {
   "cell_type": "code",
   "execution_count": 38,
   "metadata": {
    "colab": {
     "base_uri": "https://localhost:8080/",
     "height": 68
    },
    "colab_type": "code",
    "id": "d4ksZYJmD04d",
    "outputId": "465fa758-7618-4474-e0d8-524774126cbc"
   },
   "outputs": [
    {
     "name": "stdout",
     "output_type": "stream",
     "text": [
      "file_len = 4573338\n",
      "train len:  4116004\n",
      "test len:  457334\n"
     ]
    }
   ],
   "source": [
    "all_characters = string.printable\n",
    "n_characters = len(all_characters)\n",
    "\n",
    "file_path = './shakespeare.txt'\n",
    "file = unidecode.unidecode(open(file_path).read())\n",
    "file_len = len(file)\n",
    "print('file_len =', file_len)\n",
    "\n",
    "# we will leave the last 1/10th of text as test\n",
    "split = int(0.9*file_len)\n",
    "train_text = file[:split]\n",
    "test_text = file[split:]\n",
    "\n",
    "print('train len: ', len(train_text))\n",
    "print('test len: ', len(test_text))"
   ]
  },
  {
   "cell_type": "code",
   "execution_count": 39,
   "metadata": {
    "colab": {
     "base_uri": "https://localhost:8080/",
     "height": 306
    },
    "colab_type": "code",
    "id": "07EnT_fJD04g",
    "outputId": "27973bf8-1f3b-495f-ad8b-5eed1857809b"
   },
   "outputs": [
    {
     "name": "stdout",
     "output_type": "stream",
     "text": [
      "ly?\n",
      "\n",
      "VERNON:\n",
      "So do we.\n",
      "\n",
      "HOTSPUR:\n",
      "His is certain, ours is doubtful.\n",
      "\n",
      "EARL OF WORCESTER:\n",
      "Good cousin, be advised; stir not tonight.\n",
      "\n",
      "VERNON:\n",
      "Do not, my lord.\n",
      "\n",
      "EARL OF DOUGLAS:\n",
      "You do not counsel well:\n",
      "Yo\n"
     ]
    }
   ],
   "source": [
    "chunk_len = 200\n",
    "\n",
    "def random_chunk(text):\n",
    "    start_index = random.randint(0, len(text) - chunk_len)\n",
    "    end_index = start_index + chunk_len + 1\n",
    "    return text[start_index:end_index]\n",
    "\n",
    "print(random_chunk(train_text))"
   ]
  },
  {
   "cell_type": "markdown",
   "metadata": {
    "colab_type": "text",
    "id": "ecDKfrYzD04l"
   },
   "source": [
    "### Input and Target data"
   ]
  },
  {
   "cell_type": "markdown",
   "metadata": {
    "colab_type": "text",
    "id": "PnEc2onsD04m"
   },
   "source": [
    "To make training samples out of the large string of text data, we will be splitting the text into chunks.\n",
    "\n",
    "Each chunk will be turned into a tensor, specifically a `LongTensor` (used for integer values), by looping through the characters of the string and looking up the index of each character in `all_characters`."
   ]
  },
  {
   "cell_type": "code",
   "execution_count": 0,
   "metadata": {
    "colab": {},
    "colab_type": "code",
    "id": "MEF0L6ccD04n"
   },
   "outputs": [],
   "source": [
    "# Turn string into list of longs\n",
    "def char_tensor(string):\n",
    "    tensor = torch.zeros(len(string), requires_grad=True).long()\n",
    "    for c in range(len(string)):\n",
    "        tensor[c] = all_characters.index(string[c])\n",
    "    return tensor"
   ]
  },
  {
   "cell_type": "markdown",
   "metadata": {
    "colab_type": "text",
    "id": "lYsvT3ITD04r"
   },
   "source": [
    "The following function loads a batch of input and target tensors for training. Each sample comes from a random chunk of text. A sample input will consist of all characters *except the last*, while the target wil contain all characters *following the first*. For example: if random_chunk='abc', then input='ab' and target='bc'"
   ]
  },
  {
   "cell_type": "code",
   "execution_count": 0,
   "metadata": {
    "colab": {},
    "colab_type": "code",
    "id": "AyWjWYMJD04s"
   },
   "outputs": [],
   "source": [
    "def load_random_batch(text, chunk_len, batch_size):\n",
    "    input_data = torch.zeros(batch_size, chunk_len).long().to(device)\n",
    "    target = torch.zeros(batch_size, chunk_len).long().to(device)\n",
    "    for i in range(batch_size):\n",
    "        start_index = random.randint(0, len(text) - chunk_len - 1)\n",
    "        end_index = start_index + chunk_len + 1\n",
    "        chunk = text[start_index:end_index]\n",
    "        input_data[i] = char_tensor(chunk[:-1])\n",
    "        target[i] = char_tensor(chunk[1:])\n",
    "    return input_data, target"
   ]
  },
  {
   "cell_type": "markdown",
   "metadata": {
    "colab_type": "text",
    "id": "9rzi3WuBD04w"
   },
   "source": [
    "# Implement model\n",
    "\n",
    "Your RNN model will take as input the character for step $t_{-1}$ and output a prediction for the next character $t$. The model should consiste of three layers - a linear layer that encodes the input character into an embedded state, an RNN layer (which may itself have multiple layers) that operates on that embedded state and a hidden state, and a decoder layer that outputs the predicted character scores distribution.\n",
    "\n",
    "\n",
    "You must implement your model in the `rnn/model.py` file. You should use a `nn.Embedding` object for the encoding layer, a RNN model like `nn.RNN` or `nn.LSTM`, and a `nn.Linear` layer for the final a predicted character score decoding layer.\n",
    "\n",
    "\n",
    "**TODO:** Implement the model in RNN `rnn/model.py`"
   ]
  },
  {
   "cell_type": "markdown",
   "metadata": {
    "colab_type": "text",
    "id": "lQRB3CGbD04x"
   },
   "source": [
    "# Evaluating\n",
    "\n",
    "To evaluate the network we will feed one character at a time, use the outputs of the network as a probability distribution for the next character, and repeat. To start generation we pass a priming string to start building up the hidden state, from which we then generate one character at a time.\n",
    "\n",
    "\n",
    "Note that in the `evaluate` function, every time a prediction is made the outputs are divided by the \"temperature\" argument. Higher temperature values make actions more equally likely giving more \"random\" outputs. Lower temperature values (less than 1) high likelihood options contribute more. A temperature near 0 outputs only the most likely outputs.\n",
    "\n",
    "You may check different temperature values yourself, but we have provided a default which should work well."
   ]
  },
  {
   "cell_type": "code",
   "execution_count": 0,
   "metadata": {
    "colab": {},
    "colab_type": "code",
    "id": "v-5bM8sHD04y"
   },
   "outputs": [],
   "source": [
    "def evaluate(rnn, prime_str='A', predict_len=100, temperature=0.8):\n",
    "    hidden = rnn.init_hidden(1, device=device)\n",
    "    prime_input = char_tensor(prime_str)\n",
    "    predicted = prime_str\n",
    "\n",
    "    # Use priming string to \"build up\" hidden state\n",
    "    for p in range(len(prime_str) - 1):\n",
    "        _, hidden = rnn(prime_input[p].unsqueeze(0).to(device), hidden)\n",
    "    inp = prime_input[-1]\n",
    "    \n",
    "    for p in range(predict_len):\n",
    "        output, hidden = rnn(inp.unsqueeze(0).to(device), hidden)\n",
    "        \n",
    "        # Sample from the network as a multinomial distribution\n",
    "        output_dist = output.data.view(-1).div(temperature).exp()\n",
    "        top_i = torch.multinomial(output_dist, 1)[0]\n",
    "        \n",
    "        # Add predicted character to string and use as next input\n",
    "        predicted_char = all_characters[top_i]\n",
    "        predicted += predicted_char\n",
    "        inp = char_tensor(predicted_char)\n",
    "\n",
    "    return predicted"
   ]
  },
  {
   "cell_type": "markdown",
   "metadata": {
    "colab_type": "text",
    "id": "iRNRyekAD041"
   },
   "source": [
    "# Train RNN"
   ]
  },
  {
   "cell_type": "code",
   "execution_count": 0,
   "metadata": {
    "colab": {},
    "colab_type": "code",
    "id": "XsW4HypfD042"
   },
   "outputs": [],
   "source": [
    "batch_size = 100\n",
    "n_epochs = 2000\n",
    "hidden_size = 150\n",
    "n_layers = 2\n",
    "learning_rate = 0.001\n",
    "model_type = 'gru'\n",
    "print_every = 50\n",
    "plot_every = 50\n"
   ]
  },
  {
   "cell_type": "code",
   "execution_count": 0,
   "metadata": {
    "colab": {},
    "colab_type": "code",
    "id": "24hT0QmYD044"
   },
   "outputs": [],
   "source": [
    "def eval_test(rnn, inp, target):\n",
    "    with torch.no_grad():\n",
    "        hidden = rnn.init_hidden(batch_size, device=device)\n",
    "        loss = 0\n",
    "        for c in range(chunk_len):\n",
    "            output, hidden = rnn(inp[:,c], hidden)\n",
    "            loss += criterion(output.view(batch_size, -1), target[:,c])\n",
    "    \n",
    "    return loss.data.item() / chunk_len"
   ]
  },
  {
   "cell_type": "markdown",
   "metadata": {
    "colab_type": "text",
    "id": "pfIsNutmD048"
   },
   "source": [
    "### Train function\n",
    "\n",
    "**TODO**: Fill in the train function. You should initialize a hidden layer representation using your RNN's `init_hidden` function, set the model gradients to zero, and loop over each time step (character) in the input tensor. For each time step compute the output of the of the RNN and compute the loss over the output and the corresponding ground truth time step in `target`. The loss should be averaged over all time steps. Lastly, call backward on the averaged loss and take an optimizer step.\n"
   ]
  },
  {
   "cell_type": "code",
   "execution_count": 0,
   "metadata": {
    "colab": {},
    "colab_type": "code",
    "id": "-iGdjZsYD049"
   },
   "outputs": [],
   "source": [
    "def train(rnn, _input, target, optimizer, criterion):\n",
    "    \"\"\"\n",
    "    Inputs:\n",
    "    - rnn: model\n",
    "    - input: input character data tensor of shape (batch_size, chunk_len)\n",
    "    - target: target character data tensor of shape (batch_size, chunk_len)\n",
    "    - optimizer: rnn model optimizer\n",
    "    - criterion: loss function\n",
    "    \n",
    "    Returns:\n",
    "    - loss: computed loss value as python float\n",
    "    \"\"\"\n",
    "    \n",
    "    ####################################\n",
    "    #          YOUR CODE HERE          #\n",
    "    ####################################\n",
    "    loss = 0\n",
    "    hidden = rnn.init_hidden(batch_size, device=device)\n",
    "    rnn.zero_grad()\n",
    "\n",
    "    for c in range(chunk_len):\n",
    "        output, hidden = rnn(_input[:,c], hidden)\n",
    "        loss += criterion(output, target[:,c])\n",
    "\n",
    "    loss /= chunk_len\n",
    "    \n",
    "    loss.backward()\n",
    "    optimizer.step()\n",
    "\n",
    "    #loss = loss.data[0] / chunk_len #####should be loss.data.item()?\n",
    "    \n",
    "    ##########       END      ##########\n",
    "\n",
    "    return loss\n"
   ]
  },
  {
   "cell_type": "code",
   "execution_count": 46,
   "metadata": {
    "colab": {
     "base_uri": "https://localhost:8080/",
     "height": 4097
    },
    "colab_type": "code",
    "id": "Dr_i7HM5D05C",
    "outputId": "383169b2-145f-4441-8c60-32fd8934d711"
   },
   "outputs": [
    {
     "name": "stdout",
     "output_type": "stream",
     "text": [
      "Training for 2000 epochs...\n",
      "[1m 28s (50 2%) train loss: 2.7492, test_loss: 2.7497]\n",
      "Wher aus gaircih-Klt yr t,\n",
      "\n",
      "HRSA!_Bhte ate ehe, phet irh thm thw bme ainss hey t thome, su yo oll t ue \n",
      "\n",
      "[2m 56s (100 5%) train loss: 2.2808, test_loss: 2.2928]\n",
      "Wh, ouptat olme konthry the wpwin hor th the the an! mat aoor and bass fhand ad to at fone fill wa muc \n",
      "\n",
      "[4m 24s (150 7%) train loss: 2.1200, test_loss: 2.1126]\n",
      "Whith yoursen the king beif I do whal: and distis neralus?\n",
      "\n",
      "YORL:\n",
      "Mutiy besthe the thes, chas groness  \n",
      "\n",
      "[5m 52s (200 10%) train loss: 1.9840, test_loss: 1.9969]\n",
      "Whe, the wery flangering this vanibnement there hite sectese at in fair, Hid we suse feat:\n",
      "And the rei \n",
      "\n",
      "[7m 20s (250 12%) train loss: 1.8851, test_loss: 1.8847]\n",
      "Why lacket, some not the sey\n",
      "God afrent in the too?\n",
      "\n",
      "PARDLUS:\n",
      "I did lovers, whlomoul and here, dear of \n",
      "\n",
      "[8m 49s (300 15%) train loss: 1.8157, test_loss: 1.8281]\n",
      "Why powes ead-there: so thy the mess that serve upon:\n",
      "The do;\n",
      "As are our are so corver am this all sco \n",
      "\n",
      "[10m 17s (350 17%) train loss: 1.7632, test_loss: 1.8000]\n",
      "Wher chartor,\n",
      "Our all chuse sing; my have me,\n",
      "Sir, so dust not thee.\n",
      "\n",
      "HACAR:\n",
      "I do head, my sackan us a \n",
      "\n",
      "[11m 46s (400 20%) train loss: 1.6938, test_loss: 1.7439]\n",
      "Wh-tile you destrent have my hast than him dears of agom, suspet, that found ear natured to our orne t \n",
      "\n",
      "[13m 14s (450 22%) train loss: 1.6791, test_loss: 1.7274]\n",
      "Whing with short\n",
      "King seet still she pride the mantry soul speen and his forest and unseep,\n",
      "And have I \n",
      "\n",
      "[14m 43s (500 25%) train loss: 1.6580, test_loss: 1.6873]\n",
      "Where you, flender.\n",
      "\n",
      "VIUS FRome sterve of reeplan:\n",
      "If you do away of me your too in your not a crown\n",
      "A \n",
      "\n",
      "[16m 12s (550 27%) train loss: 1.6109, test_loss: 1.6607]\n",
      "What destruits:\n",
      "Then go to my man to my will? where with watch him\n",
      "Of it. There's mocker such grace hi \n",
      "\n",
      "[17m 40s (600 30%) train loss: 1.5671, test_loss: 1.6179]\n",
      "When they have of heaven show,\n",
      "The laid of him with him in his devil heaven to you.\n",
      "\n",
      "FLORD:\n",
      "An your se \n",
      "\n",
      "[19m 8s (650 32%) train loss: 1.5599, test_loss: 1.6128]\n",
      "Whou such a spoke of his cannot it forcell.\n",
      "\n",
      "KING HENRY V:\n",
      "Yet be'll be field,\n",
      "To Servick and a vain u \n",
      "\n",
      "[20m 37s (700 35%) train loss: 1.5327, test_loss: 1.6060]\n",
      "What will you, my shall now most,\n",
      "To shall lord, falstor, or amperer\n",
      "Be recupy both the Boold, more yo \n",
      "\n",
      "[22m 5s (750 37%) train loss: 1.5241, test_loss: 1.5559]\n",
      "Which which now, but part last;\n",
      "Our grolent grace demislless in wrain him.\n",
      "\n",
      "GON:\n",
      "That I have state, an \n",
      "\n",
      "[23m 34s (800 40%) train loss: 1.5203, test_loss: 1.5756]\n",
      "What never be jead's reason?\n",
      "I will bear the writh it makes it.\n",
      "\n",
      "DROMIO:\n",
      "Gentleman: Cramness and sound \n",
      "\n",
      "[25m 3s (850 42%) train loss: 1.5146, test_loss: 1.5721]\n",
      "Why that I will be Praised\n",
      "Go that is a falsed of love of it, gentleman:\n",
      "Because strange, be better hi \n",
      "\n",
      "[26m 31s (900 45%) train loss: 1.4977, test_loss: 1.5653]\n",
      "Why the other be how:\n",
      "And when a power and his worfes\n",
      "He's rebelly is a man sumine\n",
      "The as the isself w \n",
      "\n",
      "[28m 0s (950 47%) train loss: 1.4653, test_loss: 1.5551]\n",
      "Why comest and deliver you a book\n",
      "To heart in look on the way, and at tate me\n",
      "Was stushims her heart,  \n",
      "\n",
      "[29m 29s (1000 50%) train loss: 1.4828, test_loss: 1.5389]\n",
      "Wher bearty, let whore\n",
      "You\n",
      "belovely faime intracture of wail one.\n",
      "\n",
      "CRIAN:\n",
      "How lords, I'll not suree th \n",
      "\n",
      "[30m 57s (1050 52%) train loss: 1.4587, test_loss: 1.5196]\n",
      "What there is wish, that I read the this\n",
      "mailon in not stand in an resolcies oft?\n",
      "\n",
      "OTHELLO:\n",
      "He hath su \n",
      "\n",
      "[32m 26s (1100 55%) train loss: 1.4285, test_loss: 1.5272]\n",
      "Wher this cuck in the woman:\n",
      "I have word speak on his sorrow straight and trees?\n",
      "\n",
      "EMARD:\n",
      "Ay, my lord,  \n",
      "\n",
      "[33m 55s (1150 57%) train loss: 1.4848, test_loss: 1.5188]\n",
      "Why foul, go to look'd tormed,\n",
      "In the king!\n",
      "\n",
      "Ford:\n",
      "'Tis newls; no mutty's state.\n",
      "\n",
      "KENT:\n",
      "I be darest to \n",
      "\n",
      "[35m 23s (1200 60%) train loss: 1.4170, test_loss: 1.5305]\n",
      "Whas seal all and move to this crown with deed\n",
      "Of need, the compable to fiendshment,\n",
      "In chomes was not \n",
      "\n",
      "[36m 52s (1250 62%) train loss: 1.4117, test_loss: 1.5096]\n",
      "Whither be springs?\n",
      "To make hither's endired does confess which\n",
      "she dare the receive me to to your spe \n",
      "\n",
      "[38m 20s (1300 65%) train loss: 1.4332, test_loss: 1.5025]\n",
      "Whas they seek me in his will\n",
      "The life.\n",
      "And may bring the Greeks my ear to see another,\n",
      "To have a chan \n",
      "\n",
      "[39m 49s (1350 67%) train loss: 1.4349, test_loss: 1.5085]\n",
      "What, thus then shall dost not stand of our bloody,\n",
      "And an our oaths of prive him for prisoners.\n",
      "\n",
      "LORD \n",
      "\n",
      "[41m 18s (1400 70%) train loss: 1.3867, test_loss: 1.5411]\n",
      "What you\n",
      "makes her led and charge it mercy,\n",
      "But mouthsay loss is no reputation.\n",
      "\n",
      "KING LEAR:\n",
      "I may then \n",
      "\n",
      "[42m 46s (1450 72%) train loss: 1.4106, test_loss: 1.4972]\n",
      "Whis a soxer will\n",
      "Like a man man come on the Dukes that he hath been.\n",
      "I will will husband of the went  \n",
      "\n",
      "[44m 15s (1500 75%) train loss: 1.4220, test_loss: 1.5119]\n",
      "Whiles not stomach:\n",
      "I would bite a man of an old against them maid:\n",
      "I stay'd be thum take his buddled  \n",
      "\n",
      "[45m 44s (1550 77%) train loss: 1.3969, test_loss: 1.4983]\n",
      "What stard should make his melice of love\n",
      "In the words out of this tans patient all the fear\n",
      "In subjec \n",
      "\n",
      "[47m 12s (1600 80%) train loss: 1.4047, test_loss: 1.4990]\n",
      "What this feeling to what stars;\n",
      "While tell us, I will die than the last in the deep\n",
      "shall not be for  \n",
      "\n",
      "[48m 41s (1650 82%) train loss: 1.4281, test_loss: 1.5030]\n",
      "Where then, dost thou should you shall,\n",
      "That you may call this fit on you; if which,\n",
      "And subject you,  \n",
      "\n",
      "[50m 9s (1700 85%) train loss: 1.4058, test_loss: 1.4565]\n",
      "What on Hamberit,\n",
      "And she not have as makes are than being in\n",
      "appear, sir, good welcome, nor so enjoy  \n",
      "\n",
      "[51m 36s (1750 87%) train loss: 1.3823, test_loss: 1.4721]\n",
      "What this deed, not, and blose,\n",
      "With men's sealzest young Ford, you have by it.\n",
      "\n",
      "ANTIPHOLUS OF SYRACUS \n",
      "\n",
      "[53m 4s (1800 90%) train loss: 1.3921, test_loss: 1.4734]\n",
      "Whose you? Appear York one,\n",
      "Peace,\n",
      "Pardon me where you would not swear\n",
      "I' the very choleried us that w \n",
      "\n",
      "[54m 31s (1850 92%) train loss: 1.4009, test_loss: 1.4565]\n",
      "What in this tarry, on sits how\n",
      "England's contrant, or you proppier he for you.\n",
      "\n",
      "TIMON:\n",
      "Nay, and will  \n",
      "\n",
      "[55m 56s (1900 95%) train loss: 1.4252, test_loss: 1.4947]\n",
      "Whis saves the Duke,\n",
      "Because you there is the heads to appear.\n",
      "\n",
      "SILVIA:\n",
      "A faith life of faith before t \n",
      "\n",
      "[57m 23s (1950 97%) train loss: 1.3959, test_loss: 1.4960]\n",
      "What said he beaten too.\n",
      "\n",
      "MACBIATH:\n",
      "Let him prove the experiest than the bose\n",
      "Whom the month, and vill \n",
      "\n",
      "[58m 51s (2000 100%) train loss: 1.3605, test_loss: 1.5001]\n",
      "Wher sent: at here.\n",
      "\n",
      "GRADEIMO:\n",
      "And with slain, you were such a flight,\n",
      "And compleep of his sweet, thou \n",
      "\n"
     ]
    }
   ],
   "source": [
    "rnn = RNN(n_characters, hidden_size, n_characters, model_type=model_type, n_layers=n_layers).to(device)\n",
    "rnn_optimizer = torch.optim.Adam(rnn.parameters(), lr=learning_rate)\n",
    "criterion = nn.CrossEntropyLoss()\n",
    "\n",
    "start = time.time()\n",
    "all_losses = []\n",
    "test_losses = []\n",
    "loss_avg = 0\n",
    "test_loss_avg = 0\n",
    "\n",
    "\n",
    "print(\"Training for %d epochs...\" % n_epochs)\n",
    "for epoch in range(1, n_epochs + 1):\n",
    "    loss = train(rnn, *load_random_batch(train_text, chunk_len, batch_size), rnn_optimizer, criterion)\n",
    "    loss_avg += loss\n",
    "    \n",
    "    test_loss = eval_test(rnn, *load_random_batch(test_text, chunk_len, batch_size))\n",
    "    test_loss_avg += test_loss\n",
    "\n",
    "    if epoch % print_every == 0:\n",
    "        print('[%s (%d %d%%) train loss: %.4f, test_loss: %.4f]' % (time_since(start), epoch, epoch / n_epochs * 100, loss, test_loss))\n",
    "        print(generate(rnn, 'Wh', 100, device=device), '\\n')\n",
    "\n",
    "    if epoch % plot_every == 0:\n",
    "        all_losses.append(loss_avg / plot_every)\n",
    "        test_losses.append(test_loss_avg / plot_every)\n",
    "        loss_avg = 0\n",
    "        test_loss_avg = 0"
   ]
  },
  {
   "cell_type": "code",
   "execution_count": 0,
   "metadata": {
    "colab": {},
    "colab_type": "code",
    "id": "enQ-GLnzD05F"
   },
   "outputs": [],
   "source": [
    "# save network\n",
    "# torch.save(classifier.state_dict(), './rnn_generator.pth')"
   ]
  },
  {
   "cell_type": "markdown",
   "metadata": {
    "colab_type": "text",
    "id": "avmju_MED05I"
   },
   "source": [
    "# Plot the Training and Test Losses"
   ]
  },
  {
   "cell_type": "code",
   "execution_count": 48,
   "metadata": {
    "colab": {
     "base_uri": "https://localhost:8080/",
     "height": 282
    },
    "colab_type": "code",
    "id": "AYAAL51RD05J",
    "outputId": "4300610a-2560-400c-ecf6-0da2f4b452e7"
   },
   "outputs": [
    {
     "data": {
      "text/plain": [
       "[<matplotlib.lines.Line2D at 0x7f4aa1637588>]"
      ]
     },
     "execution_count": 48,
     "metadata": {
      "tags": []
     },
     "output_type": "execute_result"
    },
    {
     "data": {
      "image/png": "[encoded data removed]",
      "text/plain": [
       "<matplotlib.figure.Figure at 0x7f4aa160b198>"
      ]
     },
     "metadata": {
      "tags": []
     },
     "output_type": "display_data"
    }
   ],
   "source": [
    "import matplotlib.pyplot as plt\n",
    "import matplotlib.ticker as ticker\n",
    "\n",
    "plt.figure()\n",
    "plt.plot(all_losses)\n",
    "plt.plot(test_losses, color='r')"
   ]
  },
  {
   "cell_type": "markdown",
   "metadata": {
    "colab_type": "text",
    "id": "D0tVzzJ7D05L"
   },
   "source": [
    "# Evaluate text generation\n",
    "\n",
    "Check what the outputted text looks like"
   ]
  },
  {
   "cell_type": "code",
   "execution_count": 49,
   "metadata": {
    "colab": {
     "base_uri": "https://localhost:8080/",
     "height": 595
    },
    "colab_type": "code",
    "id": "4kFxF7_WD05M",
    "outputId": "8e01fae5-3586-42f4-d9fd-3efaad8dbda6"
   },
   "outputs": [
    {
     "name": "stdout",
     "output_type": "stream",
     "text": [
      "This naught her to the sleep!\n",
      "That shall been you thou yet to\n",
      "At the other to me, and to the duke to advances\n",
      "Marry be as much down.\n",
      "\n",
      "ROSSALINE:\n",
      "Ay, then I have room in a short, that a times.\n",
      "\n",
      "LYCAILUS:\n",
      "Full the cousin, being father in a words,\n",
      "The deed strings the serve with the company, see.\n",
      "Lord knee quarters in the properor and kind on my love\n",
      "That thus on her understand to comforth becomes\n",
      "to caintly have benefites shall be gone.\n",
      "\n",
      "POLPEY:\n",
      "O gain you sad to send upon all amends.\n",
      "\n",
      "PANEROLLES:\n",
      "Let him out of me so unpressips, we debered.\n",
      "\n",
      "DUKE SYRACUSE:\n",
      "If you shall be conceit his daughter in\n",
      "By help it. This is the godges of my wise;\n",
      "What are strength, here we stand understand this\n",
      "word off my slain! Can the thilk not twasty.\n",
      "\n",
      "DON PEDRO:\n",
      "Then blush and here on dog;\n",
      "For I, his wish'd, smoke the gods, my lords!\n",
      "How now, sir, and through that a farther, as the king\n",
      "That he lost like a devil, nor away,\n",
      "And let their father;' yet so besting that that\n",
      "sweer at much many consicial bring litt\n"
     ]
    }
   ],
   "source": [
    "print(evaluate(rnn, prime_str='Th', predict_len=1000))"
   ]
  },
  {
   "cell_type": "markdown",
   "metadata": {
    "colab_type": "text",
    "id": "kuEcb1xJD05O"
   },
   "source": [
    "# Hyperparameter Tuning\n",
    "\n",
    "Some things you should try to improve your network performance are:\n",
    "- Different RNN types. Switch the basic RNN network in your model to a GRU and LSTM to compare all three.\n",
    "- Try adding 1 or two more layers\n",
    "- Increase the hidden layer size\n",
    "- Changing the learning rate\n",
    "\n",
    "**TODO:** Try changing the RNN type and hyperparameters. Record your results."
   ]
  },
  {
   "cell_type": "code",
   "execution_count": 0,
   "metadata": {
    "colab": {},
    "colab_type": "code",
    "id": "0xDcgMC3D05P"
   },
   "outputs": [],
   "source": []
  }
 ],
 "metadata": {
  "accelerator": "GPU",
  "colab": {
   "collapsed_sections": [],
   "name": "MP4_P2_generation.ipynb",
   "provenance": [],
   "version": "0.3.2"
  },
  "kernelspec": {
   "display_name": "Python 3",
   "language": "python",
   "name": "python3"
  },
  "language_info": {
   "codemirror_mode": {
    "name": "ipython",
    "version": 3
   },
   "file_extension": ".py",
   "mimetype": "text/x-python",
   "name": "python",
   "nbconvert_exporter": "python",
   "pygments_lexer": "ipython3",
   "version": "3.6.4"
  }
 },
 "nbformat": 4,
 "nbformat_minor": 1
}

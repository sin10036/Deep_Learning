{
 "cells": [
  {
   "cell_type": "code",
   "execution_count": 1,
   "metadata": {
    "colab": {
     "base_uri": "https://localhost:8080/",
     "height": 34
    },
    "colab_type": "code",
    "id": "mjKGun7i8hdR",
    "outputId": "2cb8a01a-04af-4953-a8e6-d0954cec92cf"
   },
   "outputs": [
    {
     "name": "stdout",
     "output_type": "stream",
     "text": [
      "Drive already mounted at /content/gdrive; to attempt to forcibly remount, call drive.mount(\"/content/gdrive\", force_remount=True).\n"
     ]
    }
   ],
   "source": [
    "from google.colab import drive\n",
    "drive.mount('/content/gdrive')\n",
    "import os\n",
    "os.chdir(\"gdrive/My Drive/mp4\")"
   ]
  },
  {
   "cell_type": "code",
   "execution_count": 0,
   "metadata": {
    "colab": {},
    "colab_type": "code",
    "id": "47Ss4Z3T80pQ"
   },
   "outputs": [],
   "source": [
    "#!pip install torch\n",
    "#!pip install unidecode"
   ]
  },
  {
   "cell_type": "code",
   "execution_count": 0,
   "metadata": {
    "colab": {},
    "colab_type": "code",
    "id": "Cynv8a5t_Aiv"
   },
   "outputs": [],
   "source": [
    "#!python download_language_data.py"
   ]
  },
  {
   "cell_type": "code",
   "execution_count": 0,
   "metadata": {
    "colab": {},
    "colab_type": "code",
    "id": "CMXLgQ2jNzfW"
   },
   "outputs": [],
   "source": [
    "import os\n",
    "import time\n",
    "import math\n",
    "import glob\n",
    "import string\n",
    "import random \n",
    "\n",
    "import torch\n",
    "import torch.nn as nn\n",
    "\n",
    "from rnn.helpers import time_since\n",
    "\n",
    "%matplotlib inline"
   ]
  },
  {
   "cell_type": "code",
   "execution_count": 0,
   "metadata": {
    "colab": {},
    "colab_type": "code",
    "id": "lAxox6PJNzfc"
   },
   "outputs": [],
   "source": [
    "device = torch.device(\"cuda:0\" if torch.cuda.is_available() else \"cpu\")"
   ]
  },
  {
   "cell_type": "markdown",
   "metadata": {
    "colab_type": "text",
    "id": "6urXe55wNzfk"
   },
   "source": [
    "# Language recognition with an RNN\n",
    "\n",
    "If you've ever used an online translator you've probably seen a feature that automatically detects the input language. While this might be easy to do if you input unicode characters that are unique to one or a small group of languages (like \"你好\" or \"γεια σας\"), this problem is more challenging if the input only uses the available ASCII characters. In this case, something like \"těší mě\" would beome \"tesi me\" in the ascii form. This is a more challenging problem in which the language must be recognized purely by the pattern of characters rather than unique unicode characters.\n",
    "\n",
    "We will train an RNN to solve this problem for a small set of languages thta can be converted to romanized ASCII form. For training data it would be ideal to have a large and varied dataset in different language styles. However, it is easy to find copies of the Bible which is a large text translated to different languages but in the same easily parsable format, so we will use 20 different copies of the Bible as training data. Using the same book for all of the different languages will hopefully prevent minor overfitting that might arise if we used different books for each language (fitting to common characteristics of the individual books rather than the language)."
   ]
  },
  {
   "cell_type": "code",
   "execution_count": 6,
   "metadata": {
    "colab": {
     "base_uri": "https://localhost:8080/",
     "height": 34
    },
    "colab_type": "code",
    "id": "V83MUEEpNzfm",
    "outputId": "8ea14751-c2a6-456c-9d21-b12d97376052"
   },
   "outputs": [
    {
     "name": "stdout",
     "output_type": "stream",
     "text": [
      "tesi me\n"
     ]
    }
   ],
   "source": [
    "from unidecode import unidecode as unicodeToAscii\n",
    "\n",
    "all_characters = string.printable\n",
    "n_letters = len(all_characters)\n",
    "\n",
    "print(unicodeToAscii('těší mě'))"
   ]
  },
  {
   "cell_type": "code",
   "execution_count": 0,
   "metadata": {
    "colab": {},
    "colab_type": "code",
    "id": "jlSFtH9tNzfr"
   },
   "outputs": [],
   "source": [
    "# Read a file and split into lines\n",
    "def readFile(filename):\n",
    "    data = open(filename, encoding='utf-8').read().strip()\n",
    "    return unicodeToAscii(data)\n",
    "\n",
    "def get_category_data(data_path):\n",
    "    # Build the category_data dictionary, a list of names per language\n",
    "    category_data = {}\n",
    "    all_categories = []\n",
    "    for filename in glob.glob(data_path):\n",
    "        category = os.path.splitext(os.path.basename(filename))[0].split('_')[0]\n",
    "        all_categories.append(category)\n",
    "        data = readFile(filename)\n",
    "        category_data[category] = data\n",
    "    \n",
    "    return category_data, all_categories"
   ]
  },
  {
   "cell_type": "markdown",
   "metadata": {
    "colab_type": "text",
    "id": "5e_9Ida7Nzfx"
   },
   "source": [
    "The original text is split into two parts, train and test, so that we can make sure that the model is not simply memorizing the train data."
   ]
  },
  {
   "cell_type": "code",
   "execution_count": 8,
   "metadata": {
    "colab": {
     "base_uri": "https://localhost:8080/",
     "height": 71
    },
    "colab_type": "code",
    "id": "YFIELjjDNzf0",
    "outputId": "fb19cec9-b41b-42b3-adbb-c17411ea1038"
   },
   "outputs": [
    {
     "name": "stdout",
     "output_type": "stream",
     "text": [
      "20\n",
      "['albanian', 'english', 'czech', 'danish', 'esperanto', 'finnish', 'french', 'german', 'hungarian', 'italian', 'lithuanian', 'maori', 'norwegian', 'portuguese', 'romanian', 'spanish', 'swedish', 'turkish', 'vietnamese', 'xhosa']\n"
     ]
    }
   ],
   "source": [
    "train_data_path = 'language_data/train/*_train.txt'\n",
    "test_data_path = 'language_data/test/*_test.txt'\n",
    "\n",
    "train_category_data, all_categories = get_category_data(train_data_path)\n",
    "test_category_data, test_all_categories = get_category_data(test_data_path)\n",
    "\n",
    "n_languages = len(all_categories)\n",
    "\n",
    "print(len(all_categories))\n",
    "print(all_categories)"
   ]
  },
  {
   "cell_type": "markdown",
   "metadata": {
    "colab_type": "text",
    "id": "LH1uGJmZNzf5"
   },
   "source": [
    "# Data processing"
   ]
  },
  {
   "cell_type": "code",
   "execution_count": 0,
   "metadata": {
    "colab": {},
    "colab_type": "code",
    "id": "90pLoEIpNzf8"
   },
   "outputs": [],
   "source": [
    "def categoryFromOutput(output):\n",
    "    top_n, top_i = output.topk(1, dim=1)\n",
    "    category_i = top_i[:, 0]\n",
    "    return category_i\n",
    "\n",
    "# Turn string into long tensor\n",
    "def stringToTensor(string):\n",
    "    tensor = torch.zeros(len(string), requires_grad=True).long()\n",
    "    for c in range(len(string)):\n",
    "        tensor[c] = all_characters.index(string[c])\n",
    "    return tensor\n",
    "\n",
    "def load_random_batch(text, chunk_len, batch_size):\n",
    "    input_data = torch.zeros(batch_size, chunk_len).long().to(device)\n",
    "    target = torch.zeros(batch_size, 1).long().to(device)\n",
    "    input_text = []\n",
    "    for i in range(batch_size):\n",
    "        category = all_categories[random.randint(0, len(all_categories) - 1)]\n",
    "        line_start = random.randint(0, len(text[category])-chunk_len)\n",
    "        category_tensor = torch.tensor([all_categories.index(category)], dtype=torch.long)\n",
    "        line = text[category][line_start:line_start+chunk_len]\n",
    "        input_text.append(line)\n",
    "        input_data[i] = stringToTensor(line)\n",
    "        target[i] = category_tensor\n",
    "    return input_data, target, input_text"
   ]
  },
  {
   "cell_type": "markdown",
   "metadata": {
    "colab_type": "text",
    "id": "dlK5f3RfNzgL"
   },
   "source": [
    "Implement Model\n",
    "====================\n",
    "\n",
    "For this classification task, we can use the same model we implement for the generation task which is located in `rnn/model.py`. See the `MP4_P2_generation.ipynb` notebook for more instructions. In this case each output vector of our RNN will have the dimension of the number of possible languages (i.e. `n_languages`). We will use this vector to predict a distribution over the languages.\n",
    "\n",
    "In the generation task, we used the output of the RNN at every time step to predict the next letter and our loss included the output from each of these predictions. However, in this task we use the output of the RNN at the end of the sequence to predict the language, so our loss function will use only the predicted output from the last time step.\n",
    "\n"
   ]
  },
  {
   "cell_type": "markdown",
   "metadata": {
    "colab_type": "text",
    "id": "umo9dCtbNzgO"
   },
   "source": [
    "# Train RNN"
   ]
  },
  {
   "cell_type": "code",
   "execution_count": 0,
   "metadata": {
    "colab": {},
    "colab_type": "code",
    "id": "0sH0iJVrNzgR"
   },
   "outputs": [],
   "source": [
    "from rnn.model import RNN"
   ]
  },
  {
   "cell_type": "code",
   "execution_count": 0,
   "metadata": {
    "colab": {},
    "colab_type": "code",
    "id": "ydVWz3xNNzgZ"
   },
   "outputs": [],
   "source": [
    "chunk_len = 50\n",
    "\n",
    "BATCH_SIZE = 100\n",
    "#n_epochs = 2000\n",
    "hidden_size = 150\n",
    "n_layers = 2\n",
    "learning_rate = 0.001\n",
    "model_type = 'gru'\n",
    "\n",
    "criterion = nn.CrossEntropyLoss()\n",
    "rnn = RNN(n_letters, hidden_size, n_languages, model_type=model_type, n_layers=n_layers).to(device)"
   ]
  },
  {
   "cell_type": "markdown",
   "metadata": {
    "colab_type": "text",
    "id": "Ao0wRPXJNzgd"
   },
   "source": [
    "**TODO:** Fill in the train function. You should initialize a hidden layer representation using your RNN's `init_hidden` function, set the model gradients to zero, and loop over each time step (character) in the input tensor. For each time step compute the output of the of the RNN and the next hidden layer representation. The cross entropy loss should be computed over the last RNN output scores from the end of the sequence and the target classification tensor. Lastly, call backward on the loss and take an optimizer step."
   ]
  },
  {
   "cell_type": "code",
   "execution_count": 0,
   "metadata": {
    "colab": {},
    "colab_type": "code",
    "id": "sHOoBirWNzge"
   },
   "outputs": [],
   "source": [
    "def train(rnn, target_tensor, data_tensor, optimizer, criterion, batch_size=BATCH_SIZE):\n",
    "    \"\"\"\n",
    "    Inputs:\n",
    "    - rnn: model\n",
    "    - target_tensor: target character data tensor of shape (batch_size, 1)\n",
    "    - data_tensor: input character data tensor of shape (batch_size, chunk_len)\n",
    "    - optimizer: rnn model optimizer\n",
    "    - criterion: loss function\n",
    "    - batch_size: data batch size\n",
    "    \n",
    "    Returns:\n",
    "    - output: output from RNN from end of sequence \n",
    "    - loss: computed loss value as python float\n",
    "    \n",
    "    \"\"\"\n",
    "        \n",
    "    ####################################\n",
    "    #          YOUR CODE HERE          #\n",
    "    ####################################\n",
    "    rnn.zero_grad()\n",
    "    loss = 0\n",
    "    hidden = rnn.init_hidden(batch_size, device=device)\n",
    "    \n",
    "    for c in range(chunk_len):\n",
    "        output, hidden = rnn(data_tensor[:,c], hidden)\n",
    "    loss = criterion(output, target_tensor.squeeze())\n",
    "    \n",
    "    loss.backward()\n",
    "    optimizer.step()    \n",
    "    \n",
    "    \n",
    "    ##########       END      ##########\n",
    "\n",
    "    return output, loss.item()\n",
    "    "
   ]
  },
  {
   "cell_type": "code",
   "execution_count": 0,
   "metadata": {
    "colab": {},
    "colab_type": "code",
    "id": "_4HIOgFrNzgh"
   },
   "outputs": [],
   "source": [
    "def evaluate(rnn, data_tensor, seq_len=chunk_len, batch_size=BATCH_SIZE):\n",
    "    with torch.no_grad():\n",
    "        data_tensor = data_tensor.to(device)\n",
    "        hidden = rnn.init_hidden(batch_size, device=device)\n",
    "        for i in range(seq_len):\n",
    "            output, hidden = rnn(data_tensor[:,i], hidden)\n",
    "        \n",
    "        return output\n",
    "    \n",
    "def eval_test(rnn, category_tensor, data_tensor):\n",
    "    with torch.no_grad():\n",
    "        output = evaluate(rnn, data_tensor)\n",
    "        loss = criterion(output, category_tensor.squeeze())\n",
    "        return output, loss.item()"
   ]
  },
  {
   "cell_type": "code",
   "execution_count": 20,
   "metadata": {
    "colab": {
     "base_uri": "https://localhost:8080/",
     "height": 3417
    },
    "colab_type": "code",
    "id": "g9ElLV-jNzgk",
    "outputId": "1db4ab65-c8c2-4dc4-f15d-2492766d9edb",
    "scrolled": true
   },
   "outputs": [
    {
     "name": "stdout",
     "output_type": "stream",
     "text": [
      "50 1% (0m 13s) 2.0228 1.9427 n hadde? Gi oss eiendom blandt var fars brodre! Og / danish ✗ (norwegian)\n",
      "Train accuracy: 0.2012\n",
      "100 2% (0m 26s) 1.0023 0.9473 aomi ferje, es marada o es az o ket fia. A kik Moa / esperanto ✗ (hungarian)\n",
      "Train accuracy: 0.5494\n",
      "150 3% (0m 40s) 0.8101 0.8161 dora e tij rri e shtrire. Ai do te ngrere nje flam / norwegian ✗ (albanian)\n",
      "Train accuracy: 0.694\n",
      "200 4% (0m 53s) 0.6724 0.6228 avendo ella da mangiare, Gesu, chiamati a se i dis / romanian ✗ (italian)\n",
      "Train accuracy: 0.7636\n",
      "250 5% (1m 7s) 0.5867 0.5006  ears to hear, let him hear.] And when he was ente / english ✓\n",
      "Train accuracy: 0.815\n",
      "300 6% (1m 20s) 0.4167 0.3944 min nod, och han svarade mig; fran dodsrikets buk  / swedish ✓\n",
      "Train accuracy: 0.8404\n",
      "350 7% (1m 34s) 0.4248 0.3638 tren mat dat. Day la dong doi cua Sem: Cach hai na / vietnamese ✓\n",
      "Train accuracy: 0.8644\n",
      "400 8% (1m 47s) 0.2850 0.2610 su Juo, kaip Istatymas reikalauja, Simeonas paeme  / lithuanian ✓\n",
      "Train accuracy: 0.8754\n",
      "450 9% (2m 1s) 0.4301 0.3709 ses durys buvo is dvieju daliu ir kitos puses dury / lithuanian ✓\n",
      "Train accuracy: 0.8882\n",
      "500 10% (2m 14s) 0.2447 0.2252 ta tyhman nielee hanen oma suunsa. Hanen sanojensa / finnish ✓\n",
      "Train accuracy: 0.9102\n",
      "550 11% (2m 27s) 0.2924 0.2532 pfer, Speisopfer und fur das Fett der Dankopfer. S / danish ✗ (german)\n",
      "Train accuracy: 0.9182\n",
      "600 12% (2m 41s) 0.3452 0.3012 re sul capo e sulla barba; poi prenditi una bilanc / romanian ✗ (italian)\n",
      "Train accuracy: 0.9304\n",
      "650 13% (2m 54s) 0.2068 0.1638 ht, dass die Philister uber uns Herrschen? Warum h / german ✓\n",
      "Train accuracy: 0.932\n",
      "700 14% (3m 8s) 0.1484 0.1284 at eders Glaede ma blive fuldkommen. Dette har jeg / norwegian ✗ (danish)\n",
      "Train accuracy: 0.9296\n",
      "750 15% (3m 21s) 0.2021 0.1727  hans Arme; og Israel sagde til Josef: \"Lad mig nu / danish ✓\n",
      "Train accuracy: 0.9422\n",
      "800 16% (3m 35s) 0.2004 0.1539 er Geringste zu einem starken Volk; ich, der HERR, / german ✓\n",
      "Train accuracy: 0.9484\n",
      "850 17% (3m 48s) 0.2269 0.1927 orer ej Fogedens Rost; sma og store er lige der og / danish ✓\n",
      "Train accuracy: 0.948\n",
      "900 18% (4m 2s) 0.1722 0.1401 Miaj sklavoj, kiujn Mi elkondukis el la lando Egip / esperanto ✓\n",
      "Train accuracy: 0.9448\n",
      "950 19% (4m 15s) 0.1139 0.0951 leurs meres: Ou est le froment et le vin? lorsqu'i / french ✓\n",
      "Train accuracy: 0.9534\n",
      "1000 20% (4m 29s) 0.1212 0.1011 cuida bem dos teus rebanhos; porque as riquezas na / portuguese ✓\n",
      "Train accuracy: 0.9578\n",
      "1050 21% (4m 42s) 0.0995 0.0762 oa noku, he hoariri ia ki ahau: ko te tangata kaho / maori ✓\n",
      "Train accuracy: 0.9578\n",
      "1100 22% (4m 56s) 0.0950 0.0779 erna? Ed egli gli disse: Nella legge che sta scrit / italian ✓\n",
      "Train accuracy: 0.9586\n",
      "1150 23% (5m 10s) 0.1529 0.1459 ellasi? Han on naet tanaan lahtenyt kaupungista ja / finnish ✓\n",
      "Train accuracy: 0.9616\n",
      "1200 24% (5m 23s) 0.1990 0.1823 a te mahi pakeke a tou papa, me tana ioka taimaha  / maori ✓\n",
      "Train accuracy: 0.9558\n",
      "1250 25% (5m 37s) 0.0433 0.0312 ose vreshtaret dhe vreshtin do t'ua jape te tjerev / albanian ✓\n",
      "Train accuracy: 0.9582\n",
      "1300 26% (5m 50s) 0.0765 0.0632 bras de la al Entonces mando el rey al sumo sacerd / spanish ✓\n",
      "Train accuracy: 0.961\n",
      "1350 27% (6m 4s) 0.1121 0.0723  na kuni ukudinisa abantu, ukuda oku nidinise noTh / finnish ✗ (xhosa)\n",
      "Train accuracy: 0.9684\n",
      "1400 28% (6m 17s) 0.1646 0.1248 ovstvi od domu Davidova a dal jsem je tobe. Ty vsa / czech ✓\n",
      "Train accuracy: 0.961\n",
      "1450 28% (6m 31s) 0.0508 0.0449 mnul cu arfa, laudati -L cu alauta cu zece coarde. / romanian ✓\n",
      "Train accuracy: 0.963\n",
      "1500 30% (6m 44s) 0.0935 0.0751 iscatto, fallo; ma se non lo vuoi far valere, dimm / italian ✓\n",
      "Train accuracy: 0.9678\n",
      "1550 31% (6m 58s) 0.0217 0.0168 e vyrok Hospodinuv. Rekabejci plni slova Jonadaba, / czech ✓\n",
      "Train accuracy: 0.9696\n",
      "1600 32% (7m 11s) 0.0675 0.0517 va sinua, ettet saa puhua minulle muuta kuin totuu / finnish ✓\n",
      "Train accuracy: 0.968\n",
      "1650 33% (7m 25s) 0.0807 0.0622 and largeness of heart, even as the sand that is o / english ✓\n",
      "Train accuracy: 0.9738\n",
      "1700 34% (7m 38s) 0.1167 0.0590 intelegem; nu ne vorbi in limba iudaica, in auzul  / romanian ✓\n",
      "Train accuracy: 0.9694\n",
      "1750 35% (7m 51s) 0.1523 0.0890 tai bus sugriauti. Etiopija, Libija, Lidija ir kit / lithuanian ✓\n",
      "Train accuracy: 0.9752\n",
      "1800 36% (8m 5s) 0.0435 0.0354 uret karjalaumat, hopeaa, kultaa, pronssia ja raut / finnish ✓\n",
      "Train accuracy: 0.9722\n",
      "1850 37% (8m 19s) 0.0929 0.0585 v Tachpanchesu! Povezte: Postav se, priprav se, me / czech ✓\n",
      "Train accuracy: 0.9716\n",
      "1900 38% (8m 32s) 0.0807 0.0689  which Solomon had made. And king Rehoboam made in / english ✓\n",
      "Train accuracy: 0.9726\n",
      "1950 39% (8m 45s) 0.0544 0.0308 Ba biet rang nuoc von thuoc ve toi, va ca Y-so-ra- / vietnamese ✓\n",
      "Train accuracy: 0.9782\n",
      "2000 40% (8m 59s) 0.0282 0.0201 re? Da, se va usca in straturile unde a odraslit.` / romanian ✓\n",
      "Train accuracy: 0.9786\n",
      "2050 41% (9m 12s) 0.0630 0.0599 jo; sumanymai ir mano sirdies siekiai suduzo. Jie  / lithuanian ✓\n",
      "Train accuracy: 0.9768\n",
      "2100 42% (9m 26s) 0.0701 0.0686  kaj ili sekvos Miajn decidojn, kaj Miajn legxojn  / esperanto ✓\n",
      "Train accuracy: 0.979\n",
      "2150 43% (9m 39s) 0.0543 0.0527  skal han rense sig med vannet,* sa blir han ren;  / norwegian ✓\n",
      "Train accuracy: 0.9822\n",
      "2200 44% (9m 53s) 0.0318 0.0311 Datter af Zibons Son Ana; hun fodte for Esau: Jeus / danish ✓\n",
      "Train accuracy: 0.982\n",
      "2250 45% (10m 6s) 0.0084 0.0076 perpara Aaronit dhe para bijve te tij dhe do t'i p / albanian ✓\n",
      "Train accuracy: 0.984\n",
      "2300 46% (10m 20s) 0.1104 0.1063 rne; hver mann hadde sitt vaben hos sig og vann. M / norwegian ✓\n",
      "Train accuracy: 0.9816\n",
      "2350 47% (10m 33s) 0.0560 0.0547 us vainikas savo tautos likuciui; teisingumo dvasi / lithuanian ✓\n",
      "Train accuracy: 0.9814\n",
      "2400 48% (10m 47s) 0.0169 0.0166  Haus zuruck. Und das Weib ward schwanger und sand / german ✓\n",
      "Train accuracy: 0.985\n",
      "2450 49% (11m 0s) 0.0151 0.0149 o direktu vin kaj venu tien, kaj tien alportu viaj / esperanto ✓\n",
      "Train accuracy: 0.98\n",
      "2500 50% (11m 14s) 0.0319 0.0306 brast i Grad; og han fortalte hende; at han var he / danish ✓\n",
      "Train accuracy: 0.9826\n",
      "2550 51% (11m 27s) 0.0991 0.0886 ik az en nepemnek husat, es lenyuzzak roluk boruke / hungarian ✓\n",
      "Train accuracy: 0.9832\n",
      "2600 52% (11m 41s) 0.0335 0.0325 heben! Wir sind abtrunnig und widerspenstig gewese / german ✓\n",
      "Train accuracy: 0.9864\n",
      "2650 53% (11m 54s) 0.0531 0.0494 gi tetahi tangata, he Hurai, ko tona ingoa ko Moro / maori ✓\n",
      "Train accuracy: 0.9844\n",
      "2700 54% (12m 7s) 0.0323 0.0316 k, mint az oreg emberek, mert vigyazok a te hataro / hungarian ✓\n",
      "Train accuracy: 0.9834\n",
      "2750 55% (12m 21s) 0.0682 0.0661 Eluvukweni ngoko, ungumfazi wawuphi na kubo? Kuba  / xhosa ✓\n",
      "Train accuracy: 0.9822\n",
      "2800 56% (12m 34s) 0.0435 0.0392 s. Havendo eles estado muito tempo sem comer, Paul / portuguese ✓\n",
      "Train accuracy: 0.9864\n",
      "2850 56% (12m 48s) 0.0219 0.0209 Han gjorde icke vad ratt var i HERRENS ogon, sasom / swedish ✓\n",
      "Train accuracy: 0.9854\n",
      "2900 57% (13m 1s) 0.0302 0.0257  hode, mens han satt til bords. Men da disiplene s / norwegian ✓\n",
      "Train accuracy: 0.985\n",
      "2950 59% (13m 14s) 0.0905 0.0863 eitais, e nao vos julgais dignos da vida eterna, e / portuguese ✓\n",
      "Train accuracy: 0.9848\n",
      "3000 60% (13m 28s) 0.0170 0.0151 eo min sendis; kiom da forto mi tiam havis, tiom m / swedish ✗ (esperanto)\n",
      "Train accuracy: 0.9846\n",
      "3050 61% (13m 41s) 0.0609 0.0585  Jerusalem. Han gjorde, hvad der var ret i HERRENs / danish ✓\n",
      "Train accuracy: 0.985\n",
      "3100 62% (13m 55s) 0.0105 0.0103 aaseen. Anna kansallesi Israelille anteeksi sen sy / finnish ✓\n",
      "Train accuracy: 0.9868\n",
      "3150 63% (14m 8s) 0.1126 0.1018 n he fought against Hazael king of Syria. And Azar / english ✓\n",
      "Train accuracy: 0.9842\n",
      "3200 64% (14m 22s) 0.0600 0.0575 mpre. El dia que estando tu delante, llevaban extr / spanish ✓\n",
      "Train accuracy: 0.9836\n",
      "3250 65% (14m 35s) 0.0303 0.0289 ovan nasemu Bohu, stane se v Judsku pohlavarem a E / czech ✓\n",
      "Train accuracy: 0.987\n",
      "3300 66% (14m 48s) 0.0246 0.0233 i spune seceratorilor: ,Smulgeti intii neghina, si / romanian ✓\n",
      "Train accuracy: 0.9854\n",
      "3350 67% (15m 2s) 0.0159 0.0156 Midian papja, Mozes ipa, mindazt a mit Isten Mozes / hungarian ✓\n",
      "Train accuracy: 0.9858\n",
      "3400 68% (15m 15s) 0.0701 0.0654  det: \"Aldrig i Evighed skal nogen mere spise Frug / danish ✓\n",
      "Train accuracy: 0.9874\n",
      "3450 69% (15m 29s) 0.0204 0.0196 i ne versxu sur gxin pluvon. La vinbergxardeno de  / esperanto ✓\n",
      "Train accuracy: 0.9876\n",
      "3500 70% (15m 43s) 0.0178 0.0177 ael. Uzavrou s tebou smlouvu a ty budes nade vsim  / czech ✓\n",
      "Train accuracy: 0.9848\n",
      "3550 71% (15m 56s) 0.0323 0.0307 dayanmak zorunda kalacaksiniz.>> Vay halime benim! / turkish ✓\n",
      "Train accuracy: 0.9844\n",
      "3600 72% (16m 10s) 0.0431 0.0416 lysel Zebul, velitel mesta, rec Gaala, syna Ebedov / czech ✓\n",
      "Train accuracy: 0.9882\n",
      "3650 73% (16m 23s) 0.0733 0.0628 projevis jako sluzebnik a poslouzis jim, jestlize  / czech ✓\n",
      "Train accuracy: 0.9858\n",
      "3700 74% (16m 37s) 0.0854 0.0778  hanen voimansa on suuri, ei han jata rankaisematt / finnish ✓\n",
      "Train accuracy: 0.9836\n",
      "3750 75% (16m 50s) 0.0902 0.0881 de ce qu'il lui avait dit pour la troisieme fois:  / french ✓\n",
      "Train accuracy: 0.9856\n",
      "3800 76% (17m 3s) 0.0700 0.0690 e, pjelljet e lopeve te tua dhe fryti i deleve te  / albanian ✓\n",
      "Train accuracy: 0.9844\n",
      "3850 77% (17m 17s) 0.0243 0.0231 athu. Wathi, akuba engasenako ukumfihla, wamthabat / xhosa ✓\n",
      "Train accuracy: 0.9872\n",
      "3900 78% (17m 30s) 0.0366 0.0341 tretti. Pallus sonn var Eliab, og Eliabs barn var  / norwegian ✓\n",
      "Train accuracy: 0.9862\n",
      "3950 79% (17m 44s) 0.0590 0.0569 kal prise dig, HERRE, nar de horer din Munds Ord,  / danish ✓\n",
      "Train accuracy: 0.9858\n",
      "4000 80% (17m 57s) 0.0119 0.0119 rete sur Damas; - car l'Eternel a l'oeil sur les h / french ✓\n",
      "Train accuracy: 0.9862\n",
      "4050 81% (18m 10s) 0.1038 0.1029 Raara papa o Mareha, me nga hapu o te whare o nga  / maori ✓\n",
      "Train accuracy: 0.9882\n",
      "4100 82% (18m 24s) 0.0112 0.0114  njezet e pese kubite gjeresi. Dritaret e saj, har / albanian ✓\n",
      "Train accuracy: 0.9856\n",
      "4150 83% (18m 37s) 0.0289 0.0276 i kova. Benjaminai nezinojo, kad ju laukia nelaime / lithuanian ✓\n",
      "Train accuracy: 0.9866\n",
      "4200 84% (18m 51s) 0.0434 0.0369 Love, det er ude med dig! Du var som en Drage i Ha / danish ✓\n",
      "Train accuracy: 0.9858\n",
      "4250 85% (19m 4s) 0.0087 0.0084 es. Men alle rene Fugle ma I spise. I ma ikke spis / danish ✓\n",
      "Train accuracy: 0.9856\n",
      "4300 86% (19m 17s) 0.0095 0.0091 abatheni nina, nimgwebe ngesiko lenu. Athi ngoko a / xhosa ✓\n",
      "Train accuracy: 0.99\n",
      "4350 87% (19m 31s) 0.0090 0.0090 eance me ta ne Hebron para Zotit, dhe ata e vajose / albanian ✓\n",
      "Train accuracy: 0.9886\n",
      "4400 88% (19m 44s) 0.0101 0.0099 v, k vyucovani, kdyz valcil s Aramejci z Dvojrici  / czech ✓\n",
      "Train accuracy: 0.9862\n",
      "4450 89% (19m 58s) 0.0063 0.0062 i -o voi arata.`` El a iesit atunci din tara Halde / romanian ✓\n",
      "Train accuracy: 0.9886\n",
      "4500 90% (20m 11s) 0.0364 0.0245 iuoli di Beniamino: Bela, Beker e Jediael: tre in  / italian ✓\n",
      "Train accuracy: 0.99\n",
      "4550 91% (20m 24s) 0.0643 0.0569 e kurores se kryelartesise te te dehurve, te Efrai / albanian ✓\n",
      "Train accuracy: 0.9852\n",
      "4600 92% (20m 38s) 0.0425 0.0417 jai atmete, tapo kertiniu akmeniu. Tai Viespats pa / lithuanian ✓\n",
      "Train accuracy: 0.9828\n",
      "4650 93% (20m 51s) 0.0298 0.0272 a ka haere atu ia i reira, ka tomo ki to ratou wha / maori ✓\n",
      "Train accuracy: 0.9876\n",
      "4700 94% (21m 4s) 0.0242 0.0195 raendt, sa ingen bor der. Selv Nofs og Takpankes's / danish ✓\n",
      "Train accuracy: 0.9876\n",
      "4750 95% (21m 18s) 0.0056 0.0056 ro: Certamente tu es um deles; pois es tambem gali / portuguese ✓\n",
      "Train accuracy: 0.9866\n",
      "4800 96% (21m 31s) 0.0823 0.0748 lu zezindlu zooyise zakoonyana bakaSirayeli, eYeru / xhosa ✓\n",
      "Train accuracy: 0.9866\n",
      "4850 97% (21m 44s) 0.0373 0.0329 ficistoj laborgvidantoj en la domo de la Eternulo; / esperanto ✓\n",
      "Train accuracy: 0.9882\n",
      "4900 98% (21m 58s) 0.0443 0.0412 asarit care are o intindere de patru mii cinci sut / romanian ✓\n",
      "Train accuracy: 0.9878\n",
      "4950 99% (22m 11s) 0.0458 0.0444 mai i te hope o Hakopa, e whitu tekau wairua: i Ih / maori ✓\n",
      "Train accuracy: 0.9886\n",
      "5000 100% (22m 24s) 0.0238 0.0233 erbimi qe Zoti ka shqiptuar kunder ketij populli\". / albanian ✓\n",
      "Train accuracy: 0.9864\n"
     ]
    }
   ],
   "source": [
    "n_iters = 5000 #2000 #100000\n",
    "print_every = 50\n",
    "plot_every = 50\n",
    "\n",
    "\n",
    "# Keep track of losses for plotting\n",
    "current_loss = 0\n",
    "current_test_loss = 0\n",
    "all_losses = []\n",
    "all_test_losses = []\n",
    "\n",
    "start = time.time()\n",
    "\n",
    "optimizer = torch.optim.Adam(rnn.parameters(), lr=learning_rate)\n",
    "\n",
    "\n",
    "number_correct = 0\n",
    "for iter in range(1, n_iters + 1):\n",
    "    if iter == 2000:\n",
    "        optimizer = torch.optim.Adam(rnn.parameters(), lr=learning_rate/10)\n",
    "    input_data, target_category, text_data = load_random_batch(train_category_data, chunk_len, BATCH_SIZE)\n",
    "    output, loss = train(rnn, target_category, input_data, optimizer, criterion)\n",
    "    current_loss += loss\n",
    "    \n",
    "    _, test_loss = eval_test(rnn, target_category, input_data)\n",
    "    current_test_loss += test_loss\n",
    "    \n",
    "    guess_i = categoryFromOutput(output)\n",
    "    number_correct += (target_category.squeeze()==guess_i.squeeze()).long().sum()\n",
    "    \n",
    "    # Print iter number, loss, name and guess\n",
    "    if iter % print_every == 0:\n",
    "        sample_idx = 0\n",
    "        guess = all_categories[guess_i[sample_idx]]\n",
    "        \n",
    "        category = all_categories[int(target_category[sample_idx])]\n",
    "        \n",
    "        correct = '✓' if guess == category else '✗ (%s)' % category\n",
    "        print('%d %d%% (%s) %.4f %.4f %s / %s %s' % (iter, iter / n_iters * 100, time_since(start), loss, test_loss, text_data[sample_idx], guess, correct))\n",
    "        print('Train accuracy: {}'.format(float(number_correct)/float(print_every*BATCH_SIZE)))\n",
    "        number_correct = 0\n",
    "    \n",
    "    # Add current loss avg to list of losses\n",
    "    if iter % plot_every == 0:\n",
    "        all_losses.append(current_loss / plot_every)\n",
    "        current_loss = 0\n",
    "        all_test_losses.append(current_test_loss / plot_every)\n",
    "        current_test_loss = 0"
   ]
  },
  {
   "cell_type": "markdown",
   "metadata": {
    "colab_type": "text",
    "id": "XG9IedUVNzgp"
   },
   "source": [
    "Plot loss functions\n",
    "--------------------\n",
    "\n"
   ]
  },
  {
   "cell_type": "code",
   "execution_count": 15,
   "metadata": {
    "colab": {
     "base_uri": "https://localhost:8080/",
     "height": 282
    },
    "colab_type": "code",
    "id": "t1Jw6DyqNzgq",
    "outputId": "a251bde7-914a-4e85-83a5-712176853f37",
    "scrolled": true
   },
   "outputs": [
    {
     "data": {
      "text/plain": [
       "[<matplotlib.lines.Line2D at 0x7f229ea76048>]"
      ]
     },
     "execution_count": 15,
     "metadata": {
      "tags": []
     },
     "output_type": "execute_result"
    },
    {
     "data": {
      "image/png": "[encoded data removed]",
      "text/plain": [
       "<matplotlib.figure.Figure at 0x7f226aadc9b0>"
      ]
     },
     "metadata": {
      "tags": []
     },
     "output_type": "display_data"
    }
   ],
   "source": [
    "import matplotlib.pyplot as plt\n",
    "import matplotlib.ticker as ticker\n",
    "\n",
    "plt.figure()\n",
    "plt.plot(all_losses, color='b')\n",
    "plt.plot(all_test_losses, color='r')"
   ]
  },
  {
   "cell_type": "markdown",
   "metadata": {
    "colab_type": "text",
    "id": "BFLrPFzPNzgu"
   },
   "source": [
    "Evaluate results\n",
    "-------------------\n",
    "\n",
    "We now vizualize the performance of our model by creating a confusion matrix. The ground truth languages of samples are represented by rows in the matrix while the predicted languages are represented by columns.\n",
    "\n",
    "In this evaluation we consider sequences of variable sizes rather than the fixed length sequences we used for training."
   ]
  },
  {
   "cell_type": "code",
   "execution_count": 21,
   "metadata": {
    "colab": {
     "base_uri": "https://localhost:8080/",
     "height": 330
    },
    "colab_type": "code",
    "id": "62OFZKd-Nzgv",
    "outputId": "0b4cb09e-31a7-4a35-e18e-307de0d643c2"
   },
   "outputs": [
    {
     "name": "stdout",
     "output_type": "stream",
     "text": [
      "Test accuracy:  0.876\n"
     ]
    },
    {
     "data": {
      "image/png": "[encoded data removed]",
      "text/plain": [
       "<matplotlib.figure.Figure at 0x7f2266818748>"
      ]
     },
     "metadata": {
      "tags": []
     },
     "output_type": "display_data"
    }
   ],
   "source": [
    "eval_batch_size = 1  # needs to be set to 1 for evaluating different sequence lengths\n",
    "\n",
    "# Keep track of correct guesses in a confusion matrix\n",
    "confusion = torch.zeros(n_languages, n_languages)\n",
    "n_confusion = 1000\n",
    "num_correct = 0\n",
    "total = 0\n",
    "\n",
    "for i in range(n_confusion):\n",
    "    eval_chunk_len = random.randint(10, 50) # in evaluation we will look at sequences of variable sizes\n",
    "    input_data, target_category, text_data = load_random_batch(test_category_data, chunk_len=eval_chunk_len, batch_size=eval_batch_size)\n",
    "    output = evaluate(rnn, input_data, seq_len=eval_chunk_len, batch_size=eval_batch_size)\n",
    "    \n",
    "    guess_i = categoryFromOutput(output)\n",
    "    category_i = [int(target_category[idx]) for idx in range(len(target_category))]\n",
    "    for j in range(eval_batch_size):\n",
    "        category = all_categories[category_i[j]] \n",
    "        confusion[category_i[j]][guess_i[j]] += 1\n",
    "        num_correct += int(guess_i[j]==category_i[j])\n",
    "        total += 1\n",
    "\n",
    "print('Test accuracy: ', float(num_correct)/float(n_confusion*eval_batch_size))\n",
    "\n",
    "# Normalize by dividing every row by its sum\n",
    "for i in range(n_languages):\n",
    "    confusion[i] = confusion[i] / confusion[i].sum()\n",
    "\n",
    "# Set up plot\n",
    "fig = plt.figure()\n",
    "ax = fig.add_subplot(111)\n",
    "cax = ax.matshow(confusion.numpy())\n",
    "fig.colorbar(cax)\n",
    "\n",
    "# Set up axes\n",
    "ax.set_xticklabels([''] + all_categories, rotation=90)\n",
    "ax.set_yticklabels([''] + all_categories)\n",
    "\n",
    "# Force label at every tick\n",
    "ax.xaxis.set_major_locator(ticker.MultipleLocator(1))\n",
    "ax.yaxis.set_major_locator(ticker.MultipleLocator(1))\n",
    "\n",
    "plt.show()"
   ]
  },
  {
   "cell_type": "markdown",
   "metadata": {
    "colab_type": "text",
    "id": "8y722E-vNzgx"
   },
   "source": [
    "You can pick out bright spots off the main axis that show which\n",
    "languages it guesses incorrectly.\n",
    "\n",
    "\n"
   ]
  },
  {
   "cell_type": "markdown",
   "metadata": {
    "colab_type": "text",
    "id": "hhD-djKZNzgy"
   },
   "source": [
    "Run on User Input\n",
    "---------------------\n",
    "\n",
    "Now you can test your model on your own input. \n"
   ]
  },
  {
   "cell_type": "code",
   "execution_count": 17,
   "metadata": {
    "colab": {
     "base_uri": "https://localhost:8080/",
     "height": 136
    },
    "colab_type": "code",
    "id": "NnIY71Z-Nzgz",
    "outputId": "355279ca-ce93-4ebb-8027-fea1d22ada42"
   },
   "outputs": [
    {
     "name": "stdout",
     "output_type": "stream",
     "text": [
      "\n",
      "> This is a phrase to test the model on user input\n",
      "(10.92) english\n",
      "(3.46) albanian\n",
      "(3.39) hungarian\n",
      "(2.77) norwegian\n",
      "(1.72) german\n"
     ]
    }
   ],
   "source": [
    "def predict(input_line, n_predictions=5):\n",
    "    print('\\n> %s' % input_line)\n",
    "    with torch.no_grad():\n",
    "        input_data = stringToTensor(input_line).long().unsqueeze(0).to(device)\n",
    "        output = evaluate(rnn, input_data, seq_len=len(input_line), batch_size=1)\n",
    "\n",
    "    # Get top N categories\n",
    "    topv, topi = output.topk(n_predictions, dim=1)\n",
    "    predictions = []\n",
    "\n",
    "    for i in range(n_predictions):\n",
    "        topv.shape\n",
    "        topi.shape\n",
    "        value = topv[0][i].item()\n",
    "        category_index = topi[0][i].item()\n",
    "        print('(%.2f) %s' % (value, all_categories[category_index]))\n",
    "        predictions.append([value, all_categories[category_index]])\n",
    "\n",
    "predict('This is a phrase to test the model on user input')\n"
   ]
  },
  {
   "cell_type": "markdown",
   "metadata": {
    "colab_type": "text",
    "id": "qf4CBU7hNzg4"
   },
   "source": [
    "# Output Kaggle submission file\n",
    "\n",
    "Once you have found a good set of hyperparameters submit the output of your model on the Kaggle test file."
   ]
  },
  {
   "cell_type": "code",
   "execution_count": 0,
   "metadata": {
    "colab": {},
    "colab_type": "code",
    "id": "xurx0k3iNzg5"
   },
   "outputs": [],
   "source": [
    "### DO NOT CHANGE KAGGLE SUBMISSION CODE ####\n",
    "import csv\n",
    "\n",
    "kaggle_test_file_path = 'language_data/kaggle_rnn_language_classification_test.txt'\n",
    "with open(kaggle_test_file_path, 'r') as f:\n",
    "    lines = f.readlines()\n",
    "\n",
    "output_rows = []\n",
    "for i, line in enumerate(lines):\n",
    "    sample = line.rstrip()\n",
    "    sample_chunk_len = len(sample)\n",
    "    input_data = stringToTensor(sample).unsqueeze(0)\n",
    "    output = evaluate(rnn, input_data, seq_len=sample_chunk_len, batch_size=1)\n",
    "    guess_i = categoryFromOutput(output)\n",
    "    output_rows.append((str(i+1), all_categories[guess_i]))\n",
    "\n",
    "submission_file_path = 'kaggle_rnn_submission.txt'\n",
    "with open(submission_file_path, 'w') as f:\n",
    "    output_rows = [('id', 'category')] + output_rows\n",
    "    writer = csv.writer(f)\n",
    "    writer.writerows(output_rows)\n"
   ]
  },
  {
   "cell_type": "code",
   "execution_count": 0,
   "metadata": {
    "colab": {},
    "colab_type": "code",
    "id": "opbR91-GNzg7"
   },
   "outputs": [],
   "source": []
  }
 ],
 "metadata": {
  "accelerator": "GPU",
  "colab": {
   "collapsed_sections": [],
   "name": "MP4_P2_classification.ipynb",
   "provenance": [],
   "version": "0.3.2"
  },
  "kernelspec": {
   "display_name": "Python 3",
   "language": "python",
   "name": "python3"
  },
  "language_info": {
   "codemirror_mode": {
    "name": "ipython",
    "version": 3
   },
   "file_extension": ".py",
   "mimetype": "text/x-python",
   "name": "python",
   "nbconvert_exporter": "python",
   "pygments_lexer": "ipython3",
   "version": "3.6.4"
  }
 },
 "nbformat": 4,
 "nbformat_minor": 1
}
